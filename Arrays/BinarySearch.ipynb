{
 "cells": [
  {
   "cell_type": "markdown",
   "id": "7a2f11a8-1f86-45ed-98f1-4a77e42109a0",
   "metadata": {},
   "source": [
    "# Binary Search"
   ]
  },
  {
   "cell_type": "code",
   "execution_count": 10,
   "id": "e37a8240-1c8b-47d1-ac36-142d2bbe3bb1",
   "metadata": {},
   "outputs": [
    {
     "name": "stdout",
     "output_type": "stream",
     "text": [
      "-1\n"
     ]
    }
   ],
   "source": [
    "def binarySearch(arr, t):\n",
    "    i = 0\n",
    "    j = len(arr)-1\n",
    "    while i <= j:\n",
    "        mid = i+(j-i)//2\n",
    "        if arr[mid] == t:\n",
    "            return mid\n",
    "        elif arr[mid] > t:\n",
    "            j = mid-1\n",
    "        else:\n",
    "            i = mid+1\n",
    "    return -1\n",
    "\n",
    "arr = [1,2,3,4,5]\n",
    "t = 8\n",
    "print(binarySearch(arr,t))"
   ]
  },
  {
   "cell_type": "markdown",
   "id": "9b1c2dad-7723-4bcd-a5d6-2b3a29f37485",
   "metadata": {},
   "source": [
    "Suppose an array of length n sorted in ascending order is rotated between 1 and n times. For example, the array nums = [0,1,2,4,5,6,7] might become:\n",
    "\n",
    "[4,5,6,7,0,1,2] if it was rotated 4 times.\n",
    "[0,1,2,4,5,6,7] if it was rotated 7 times.\n",
    "Notice that rotating an array [a[0], a[1], a[2], ..., a[n-1]] 1 time results in the array [a[n-1], a[0], a[1], a[2], ..., a[n-2]].\n",
    "\n",
    "Given the sorted rotated array nums of unique elements, return the minimum element of this array."
   ]
  },
  {
   "cell_type": "code",
   "execution_count": 2,
   "id": "0c5789cf-4dc5-4476-a7d8-d8b21cae2b99",
   "metadata": {},
   "outputs": [
    {
     "name": "stdout",
     "output_type": "stream",
     "text": [
      "0\n"
     ]
    }
   ],
   "source": [
    "import sys\n",
    "\n",
    "def findMin(arr):\n",
    "    seen = set()\n",
    "    minE = sys.maxsize\n",
    "    for i in arr:\n",
    "        minE = min(minE, i)\n",
    "    return minE\n",
    "\n",
    "arr = [4,5,6,7,0,1,2]\n",
    "print(findMin(arr))"
   ]
  },
  {
   "cell_type": "code",
   "execution_count": null,
   "id": "3e17c54d-5dbf-47c2-91d1-a95262a06849",
   "metadata": {},
   "outputs": [],
   "source": []
  }
 ],
 "metadata": {
  "kernelspec": {
   "display_name": "Python 3 (ipykernel)",
   "language": "python",
   "name": "python3"
  },
  "language_info": {
   "codemirror_mode": {
    "name": "ipython",
    "version": 3
   },
   "file_extension": ".py",
   "mimetype": "text/x-python",
   "name": "python",
   "nbconvert_exporter": "python",
   "pygments_lexer": "ipython3",
   "version": "3.9.1"
  }
 },
 "nbformat": 4,
 "nbformat_minor": 5
}
