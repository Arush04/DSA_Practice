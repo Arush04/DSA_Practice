{
 "cells": [
  {
   "cell_type": "markdown",
   "id": "d75334ed-257a-431a-b509-b7105f14f77b",
   "metadata": {},
   "source": [
    "Given two matrices A and B. The task is to multiply matrix A and matrix B. If matrix A and matrix B are not multiplicative compatible, then generate output “Not Possible”."
   ]
  },
  {
   "cell_type": "code",
   "execution_count": 6,
   "id": "05d0f75c-c682-4299-ba19-a24ebe0f8d2b",
   "metadata": {},
   "outputs": [
    {
     "name": "stdout",
     "output_type": "stream",
     "text": [
      "[[304, 520], [480, 894]]\n"
     ]
    }
   ],
   "source": [
    "def matrixMultipy(arr1, arr2):\n",
    "    col1 = len(arr1[0])\n",
    "    row2 = len(arr2)\n",
    "    ans = [[0 for _ in range(len(arr2[0]))] for _ in range(len(arr1))]\n",
    "    if col1 != row2:\n",
    "        return \"Not Possible\"\n",
    "    for i in range(len(arr1)):\n",
    "        for j in range(len(arr2[0])):\n",
    "            for k in range(len(arr2)):\n",
    "                ans[i][j] += arr1[i][k]*arr2[k][j]\n",
    "\n",
    "    return ans\n",
    "\n",
    "arr1 = [[12, 56],\n",
    "        [45, 78]]\n",
    "\n",
    "arr2 = [[2, 6],\n",
    "        [5, 8]]\n",
    "\n",
    "print(matrixMultipy(arr1, arr2))\n",
    "\n",
    "#time-complexity - O(n^3)\n",
    "#space-complexity - O(n)"
   ]
  },
  {
   "cell_type": "code",
   "execution_count": null,
   "id": "c5824b2a-27a5-4797-b535-06b35d55cc5d",
   "metadata": {},
   "outputs": [],
   "source": []
  }
 ],
 "metadata": {
  "kernelspec": {
   "display_name": "Python 3 (ipykernel)",
   "language": "python",
   "name": "python3"
  },
  "language_info": {
   "codemirror_mode": {
    "name": "ipython",
    "version": 3
   },
   "file_extension": ".py",
   "mimetype": "text/x-python",
   "name": "python",
   "nbconvert_exporter": "python",
   "pygments_lexer": "ipython3",
   "version": "3.9.1"
  }
 },
 "nbformat": 4,
 "nbformat_minor": 5
}
