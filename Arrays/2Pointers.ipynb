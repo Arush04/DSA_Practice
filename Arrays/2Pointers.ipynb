{
 "cells": [
  {
   "cell_type": "markdown",
   "id": "7072505e-e86e-4147-ada8-26e84886d37b",
   "metadata": {},
   "source": [
    "A phrase is a palindrome if, after converting all uppercase letters into lowercase letters and removing all non-alphanumeric characters, it reads the same forward and backward. Alphanumeric characters include letters and numbers.\r\n",
    "\r\n",
    "Given a string s, return true if it is a palindrome, or false otherwise."
   ]
  },
  {
   "cell_type": "code",
   "execution_count": 11,
   "id": "8c9130e6-a736-4ddc-ba5a-c66bb92f03b9",
   "metadata": {},
   "outputs": [
    {
     "name": "stdin",
     "output_type": "stream",
     "text": [
      "Enter string:\n",
      "  \n"
     ]
    },
    {
     "name": "stdout",
     "output_type": "stream",
     "text": [
      "True\n"
     ]
    }
   ],
   "source": [
    "def isPalindrome(s):\n",
    "    news = \"\"\n",
    "    for char in s:\n",
    "        char = char.lower()\n",
    "        if char.isalnum() == True:\n",
    "            news += char\n",
    "    i = 0\n",
    "    j = len(news)//2\n",
    "    rev = news[::-1]\n",
    "    if news == rev:\n",
    "        return True\n",
    "    return False\n",
    "s = input(\"Enter string:\\n\")\n",
    "print(isPalindrome(s))\n",
    "\n",
    "# Time complexity - O(n)\n",
    "# Space complexity - O(n)"
   ]
  },
  {
   "cell_type": "markdown",
   "id": "435d5161-b728-4059-a201-abfcb1e5f49b",
   "metadata": {},
   "source": [
    "Given an integer array nums, return all the triplets [nums[i], nums[j], nums[k]] such that i != j, i != k, and j != k, and nums[i] + nums[j] + nums[k] == 0.\r\n",
    "\r\n",
    "Notice that the solution set must not contain duplicate triplets."
   ]
  },
  {
   "cell_type": "code",
   "execution_count": 19,
   "id": "192c3072-0543-4982-bfb8-3e8e7425f392",
   "metadata": {},
   "outputs": [
    {
     "name": "stdout",
     "output_type": "stream",
     "text": [
      "[[-1, 0, 1], [-1, -1, 2]]\n"
     ]
    }
   ],
   "source": [
    "def threeSum(nums, t):\n",
    "    triplets = []\n",
    "    n = len(nums)\n",
    "    # Iterate through all possible combinations of triplets\n",
    "    for i in range(n):\n",
    "        for j in range(i + 1, n):\n",
    "            for k in range(j + 1, n):\n",
    "                # Check if the sum of the triplet is zero and it doesn't contain duplicates\n",
    "                if nums[i] + nums[j] + nums[k] == t and len(set([i, j, k])) == 3:\n",
    "                    triplet = sorted([nums[i], nums[j], nums[k]])\n",
    "                    if triplet not in triplets:\n",
    "                        triplets.append(triplet)\n",
    "\n",
    "    return triplets\n",
    "\n",
    "arr = [-1,0,1,2,-1,-4]\n",
    "t = 0\n",
    "print(threeSum(arr, t))\n",
    "\n",
    "# Time complexity - O(n^3)\n",
    "# Space complexity - O(n^3)"
   ]
  },
  {
   "cell_type": "code",
   "execution_count": 32,
   "id": "929f80c9-3206-4a5f-9f8c-562bd886b3b2",
   "metadata": {},
   "outputs": [
    {
     "name": "stdout",
     "output_type": "stream",
     "text": [
      "[[-1, -1, 2], [-1, 0, 1]]\n"
     ]
    }
   ],
   "source": [
    "def threeSum(arr, t):\n",
    "    ans = []\n",
    "    arr.sort()\n",
    "    for i in range(len(arr)):\n",
    "        if i > 0 and arr[i] == arr[i-1]:\n",
    "            continue\n",
    "        j = i+1\n",
    "        k = len(arr)-1\n",
    "        while(j < k):\n",
    "            sum = arr[i]+arr[j]+arr[k]\n",
    "            if sum == t:\n",
    "                ans.append([arr[i], arr[j], arr[k]])\n",
    "                j += 1\n",
    "                while arr[j] == arr[j-1] and j < k:\n",
    "                    j += 1\n",
    "            elif sum < 0:\n",
    "                j += 1\n",
    "            else:\n",
    "                k -= 1\n",
    "    return ans\n",
    "\n",
    "arr = [-1,0,1,2,-1,-4]\n",
    "t = 0\n",
    "print(threeSum(arr, t))\n",
    "\n",
    "# Time-complexity - O(n^2)\n",
    "# Space-complexity - O(1)"
   ]
  },
  {
   "cell_type": "markdown",
   "id": "749b6985-6cfa-4ab2-82ac-8ca38356d5c7",
   "metadata": {},
   "source": [
    "You are given an integer array height of length n. There are n vertical lines drawn such that the two endpoints of the ith line are (i, 0) and (i, height[i]).\r\n",
    "\r\n",
    "Find two lines that together with the x-axis form a container, such that the container contains the most water.\r\n",
    "\r\n",
    "Return the maximum amount of water a container can store."
   ]
  },
  {
   "cell_type": "code",
   "execution_count": 36,
   "id": "5c6f007f-2cca-40a3-8e6d-fe9d70710361",
   "metadata": {},
   "outputs": [
    {
     "name": "stdout",
     "output_type": "stream",
     "text": [
      "1\n"
     ]
    }
   ],
   "source": [
    "def maxArea(arr):\n",
    "    maxArea = 0\n",
    "    for i in range(len(arr)-1):\n",
    "        area = 0\n",
    "        for j in range(len(arr)):\n",
    "            if i == j:\n",
    "                continue\n",
    "            area = abs((i-j)*min(arr[i], arr[j]))\n",
    "            if area > maxArea:\n",
    "                maxArea = area\n",
    "    return maxArea\n",
    "\n",
    "arr = [1,1]\n",
    "print(maxArea(arr))\n",
    "\n",
    "# Time complexity - O(n^2)\n",
    "# Space complexity - O(1)"
   ]
  },
  {
   "cell_type": "code",
   "execution_count": 38,
   "id": "6b7b70cc-eda3-4546-9d14-1eac5d89dca2",
   "metadata": {},
   "outputs": [
    {
     "name": "stdout",
     "output_type": "stream",
     "text": [
      "1\n"
     ]
    }
   ],
   "source": [
    "def maxArea(arr):\n",
    "    maxArea = 0\n",
    "    i = 0\n",
    "    j = len(arr)-1\n",
    "    while i < j:\n",
    "        ht = min(arr[i], arr[j])\n",
    "        maxArea = max(maxArea, ht*(j-i))\n",
    "        if (arr[j] > arr[i]):\n",
    "            i += 1\n",
    "        else:\n",
    "            j -= 1\n",
    "    return maxArea\n",
    "\n",
    "arr = [1,1]\n",
    "print(maxArea(arr))\n",
    "\n",
    "# Time complexity - O(n)\n",
    "# Space complexity - O(1)"
   ]
  },
  {
   "cell_type": "markdown",
   "id": "7d29ddb4-ab94-4b60-8f23-7c07a15bad7a",
   "metadata": {},
   "source": [
    "You are given an array prices where prices[i] is the price of a given stock on the ith day.\r\n",
    "\r\n",
    "You want to maximize your profit by choosing a single day to buy one stock and choosing a different day in the future to sell that stock.\r\n",
    "\r\n",
    "Return the maximum profit you can achieve from this transaction. If you cannot achieve any profit, return 0."
   ]
  },
  {
   "cell_type": "code",
   "execution_count": 43,
   "id": "11bfba7e-23a2-44d8-8c3f-c086f828c0be",
   "metadata": {},
   "outputs": [
    {
     "name": "stdout",
     "output_type": "stream",
     "text": [
      "5\n"
     ]
    }
   ],
   "source": [
    "import sys\n",
    "def maxProfit(arr):\n",
    "    maxProfit = 0\n",
    "    minPrice = sys.maxsize\n",
    "    for i in range(len(arr)):\n",
    "        minPrice = min(minPrice, arr[i])\n",
    "        maxProfit = max(maxProfit, arr[i]-minPrice)\n",
    "    return maxProfit\n",
    "\n",
    "arr = [7,1,5,3,6,4]\n",
    "print(maxProfit(arr))\n",
    "\n",
    "# Time-complexity - O(n)\n",
    "# Space-complexity - O(1)"
   ]
  },
  {
   "cell_type": "markdown",
   "id": "4a464fb3-2090-4a0d-b862-3e6da89c641b",
   "metadata": {},
   "source": [
    "Given a string s, find the length of the substring without repeating characters."
   ]
  },
  {
   "cell_type": "code",
   "execution_count": 17,
   "id": "ef63feb6-4f02-4679-aa02-ee47f6c2a8cc",
   "metadata": {},
   "outputs": [
    {
     "name": "stdout",
     "output_type": "stream",
     "text": [
      "3\n"
     ]
    }
   ],
   "source": [
    "def longestSubString(s):\n",
    "    max_length = 0\n",
    "    char_index_map = {}\n",
    "    start = 0\n",
    "    for i in range(len(s)):\n",
    "        if s[i] in char_index_map:\n",
    "            # Move the start pointer to the right of the last occurrence of s[end]\n",
    "            start = max(start, char_index_map[s[i]] + 1)\n",
    "        # Update the last index of the current character\n",
    "        char_index_map[s[i]] = i\n",
    "        # Update the maximum length of the substring without repeating characters\n",
    "        max_length = max(max_length, i - start + 1)\n",
    "    return max_length\n",
    "\n",
    "s = \"pwwkew\"\n",
    "print(longestSubString(s))\n",
    "\n",
    "# Time complexity - O(n) where n is the size of the input string\n",
    "# Space complexity - O(m) where m is the number of unique chars"
   ]
  },
  {
   "cell_type": "markdown",
   "id": "04b6dec6-aed2-473d-98ca-e5cbec7c6805",
   "metadata": {},
   "source": [
    "You are given a string s and an integer k. You can choose any character of the string and change it to any other uppercase English character. You can perform this operation at most k times.\r\n",
    "\r\n",
    "Return the length of the longest substring containing the same letter you can get after performing the above operations."
   ]
  },
  {
   "cell_type": "code",
   "execution_count": 35,
   "id": "616a97de-9d09-489e-9c94-e2a27d56308c",
   "metadata": {},
   "outputs": [
    {
     "name": "stdout",
     "output_type": "stream",
     "text": [
      "4\n"
     ]
    }
   ],
   "source": [
    "def charReplace(s, k):\n",
    "    mp = {}\n",
    "    ans = 0\n",
    "    maxF = 0\n",
    "    l = 0\n",
    "    for i in range(len(s)):\n",
    "        mp[s[i]] = mp.get(s[i], 0) + 1\n",
    "        maxF = max(maxF, mp[s[i]])\n",
    "        if (i - l + 1) - maxF > k:\n",
    "            mp[s[l]] -= 1\n",
    "            l += 1\n",
    "        ans = max(ans, i - l + 1)\n",
    "    return ans\n",
    "\n",
    "s = \"AABABBA\"\n",
    "k = 1\n",
    "print(charReplace(s,k))\n",
    "\n",
    "# Time complexity - O(n)\n",
    "# Space complexity - O(1)"
   ]
  },
  {
   "cell_type": "code",
   "execution_count": 29,
   "id": "43172170-ffaf-4cc1-a5d4-9d9d02fc7af6",
   "metadata": {},
   "outputs": [
    {
     "name": "stdout",
     "output_type": "stream",
     "text": [
      "4\n"
     ]
    }
   ],
   "source": []
  },
  {
   "cell_type": "code",
   "execution_count": null,
   "id": "0a272b75-c821-420b-ab3e-dc2b83c59923",
   "metadata": {},
   "outputs": [],
   "source": []
  }
 ],
 "metadata": {
  "kernelspec": {
   "display_name": "Python 3 (ipykernel)",
   "language": "python",
   "name": "python3"
  },
  "language_info": {
   "codemirror_mode": {
    "name": "ipython",
    "version": 3
   },
   "file_extension": ".py",
   "mimetype": "text/x-python",
   "name": "python",
   "nbconvert_exporter": "python",
   "pygments_lexer": "ipython3",
   "version": "3.9.1"
  }
 },
 "nbformat": 4,
 "nbformat_minor": 5
}
