{
 "cells": [
  {
   "cell_type": "markdown",
   "id": "84cd45a5-28de-4310-9403-cc964cd29c66",
   "metadata": {},
   "source": [
    "Given an array of integers arr[] of size N and an integer, the task is to rotate the array elements to the left by d positions.  \n",
    "arr[] = {1, 2, 3, 4, 5, 6, 7}, d = 2  \r\n",
    "Output: 3 4 5 6 7 1 2"
   ]
  },
  {
   "cell_type": "code",
   "execution_count": 12,
   "id": "bdd78060-4e96-4113-bcbb-84972c6deb6e",
   "metadata": {},
   "outputs": [
    {
     "name": "stdout",
     "output_type": "stream",
     "text": [
      "[3, 4, 5, 6, 7, 1, 2]\n"
     ]
    }
   ],
   "source": [
    "def rotateArray(arr, d):\n",
    "    ans = []\n",
    "    for i in range(d, len(arr)):\n",
    "        ans.append(arr[i])\n",
    "    for i in range(d):\n",
    "        ans.append(arr[i])\n",
    "    return ans\n",
    "\n",
    "arr = [1,2,3,4,5,6,7]\n",
    "d = 2\n",
    "print(rotateArray(arr, d))\n",
    "\n",
    "#time-complexity - O(n)\n",
    "#space-complexity - O(1) , since the extra space is only used for the array to be returned hence space complxity is constant"
   ]
  },
  {
   "cell_type": "markdown",
   "id": "295820fc-b35a-43df-a615-b724055bea7c",
   "metadata": {},
   "source": [
    "Given an array of n elements that contains elements from 0 to n-1, with any of these numbers appearing any number of times. Find these repeating numbers in O(n) and use only constant memory space.\r\n",
    "\r\n",
    "Note: The repeating element should be printed only onc  \n",
    "Input: n=7 , array[]={1, 2, 3, 6, 3, 6, 1}  \r\n",
    "Output: 1, 3, 6e."
   ]
  },
  {
   "cell_type": "code",
   "execution_count": 10,
   "id": "451db2fa-9f68-4cc8-99a5-b80470bd47d0",
   "metadata": {},
   "outputs": [
    {
     "name": "stdout",
     "output_type": "stream",
     "text": [
      "[1, 3, 6]\n"
     ]
    }
   ],
   "source": [
    "def repeatingNumbers(arr):\n",
    "    arr.sort()\n",
    "    ans = []\n",
    "    for i in range(len(arr)-1):\n",
    "        if arr[i] == arr[i+1]:\n",
    "            ans.append(arr[i])\n",
    "    return ans\n",
    "\n",
    "arr = [1, 2, 3, 6, 3, 6, 1]\n",
    "print(repeatingNumbers(arr))\n",
    "\n",
    "#time-complexity - O(nlogn)\n",
    "#space-complexity - O(1)"
   ]
  },
  {
   "cell_type": "code",
   "execution_count": 13,
   "id": "00c26058-2fdf-4be6-8a8d-cd4967bdd2ae",
   "metadata": {},
   "outputs": [
    {
     "name": "stdout",
     "output_type": "stream",
     "text": [
      "[1, 3, 6]\n"
     ]
    }
   ],
   "source": [
    "def repeatingNumbers(arr):\n",
    "    freq_count = {}  # we are using dictionary to store the frequency of elements\n",
    "    ans = []\n",
    "    for num in arr:\n",
    "        freq_count[num] = freq_count.get(num, 0)+1\n",
    "    for key, value in freq_count.items():\n",
    "        if value > 1:\n",
    "            ans.append(key)\n",
    "    return ans\n",
    "\n",
    "arr = [1, 2, 3, 6, 3, 6, 1]\n",
    "print(repeatingNumbers(arr))\n",
    "\n",
    "#time-complexity - O(n)\n",
    "#space-complexity - O(1)"
   ]
  },
  {
   "cell_type": "markdown",
   "id": "96def90f-6175-4da4-a2a0-26c8eeda9555",
   "metadata": {},
   "source": [
    "Given an array arr[] of size N-1 with integers in the range of [1, N], the task is to find the missing number from the first N integers.\r\n",
    "\r\n",
    "Note: There are no duplicates in the lis  \n",
    "Input: arr[] = {1, 2, 4, 6, 3, 7, 8}  \r\n",
    "Output: 5t."
   ]
  },
  {
   "cell_type": "code",
   "execution_count": 17,
   "id": "582546a5-6193-4630-a1c8-07004888bb43",
   "metadata": {},
   "outputs": [
    {
     "name": "stdout",
     "output_type": "stream",
     "text": [
      "4\n"
     ]
    }
   ],
   "source": [
    "def findMissingNumber(arr):\n",
    "    arr.sort()\n",
    "    for i in range(len(arr)):\n",
    "        if i+1 != arr[i]:\n",
    "            return i+1\n",
    "            break;\n",
    "\n",
    "arr = [1, 2, 3, 5]\n",
    "print(findMissingNumber(arr))\n",
    "\n",
    "#time-complexity - O(nlogn)\n",
    "#space-complexity - O(1)"
   ]
  },
  {
   "cell_type": "code",
   "execution_count": 21,
   "id": "521aa23a-3e61-41dc-af31-523d7ab6aae1",
   "metadata": {},
   "outputs": [
    {
     "name": "stdout",
     "output_type": "stream",
     "text": [
      "5\n"
     ]
    }
   ],
   "source": [
    "def findMissingNUmber(arr):\n",
    "    totalSum = sum(arr)\n",
    "    sumN = (n+1)*(n+2)/2\n",
    "    return sumN-totalSum\n",
    "\n",
    "arr = [1, 2, 4, 6, 3, 7, 8]\n",
    "print(findMissingNumber(arr))\n",
    "\n",
    "#time-complexity - O(n)\n",
    "#space-complexity - O(1)"
   ]
  },
  {
   "cell_type": "markdown",
   "id": "2d3273ef-d39e-46ef-b780-712deb7065ea",
   "metadata": {},
   "source": [
    "Given two sorted arrays, the task is to merge them in a sorted manner.  \n",
    "Input: arr1[] = { 1, 3, 4, 5}, arr2[] = {2, 4, 6, 8}  \r\n",
    "Output: arr3[] = {1, 2, 3, 4, 4, 5, 6, 8}"
   ]
  },
  {
   "cell_type": "code",
   "execution_count": 24,
   "id": "1262c7dc-271f-411a-b258-2df4b410f62d",
   "metadata": {},
   "outputs": [
    {
     "name": "stdout",
     "output_type": "stream",
     "text": [
      "[1, 2, 3, 4, 4, 5, 6, 8]\n"
     ]
    }
   ],
   "source": [
    "def mergeArrays(arr1, arr2):\n",
    "    ans = arr1+arr2\n",
    "    ans.sort()\n",
    "    return ans\n",
    "\n",
    "arr1 = [1, 3, 4, 5]\n",
    "arr2 = [2, 4, 6, 8]\n",
    "print(mergeArrays(arr1, arr2))\n",
    "\n",
    "#time-complexity - O((n+m)log(n+m))\n",
    "#space-complexity - O(n+m)"
   ]
  },
  {
   "cell_type": "code",
   "execution_count": 32,
   "id": "0d3d579f-d9ae-4f6a-893c-be71cf1b94eb",
   "metadata": {},
   "outputs": [
    {
     "name": "stdout",
     "output_type": "stream",
     "text": [
      "[1, 2, 3, 4, 4, 5, 6, 8]\n"
     ]
    }
   ],
   "source": [
    "def mergeArrays(arr1, arr2):\n",
    "    i=0\n",
    "    j=0\n",
    "    ans = []\n",
    "    while i<len(arr1) and j<len(arr2):\n",
    "        if arr1[i] <= arr2[j]:\n",
    "            ans.append(arr1[i])\n",
    "            i = i+1\n",
    "        else:\n",
    "            ans.append(arr2[j])\n",
    "            j = j+1\n",
    "    while i<len(arr1):\n",
    "        ans.append(arr1[i])\n",
    "        i += 1\n",
    "    while j<len(arr2):\n",
    "        ans.append(arr2[j])\n",
    "        j += 1\n",
    "    return ans\n",
    "\n",
    "\n",
    "\n",
    "arr1 = [1, 3, 4, 5]\n",
    "arr2 = [2, 4, 6, 8]\n",
    "print(mergeArrays(arr1, arr2))\n",
    "\n",
    "#time-complexity - O(n+m)\n",
    "#space-complexity - O(n+m)"
   ]
  },
  {
   "cell_type": "markdown",
   "id": "718c3318-b744-4d5d-a8f8-bf1fdd799fa2",
   "metadata": {},
   "source": [
    "Given an array arr[] of non-negative integers and an integer sum, find a subarray that adds to a given sum.\r\n",
    "\r\n",
    "Note: There may be more than one subarray with sum as the given sum, print first such subarra  \n",
    "Input: arr[] = {1, 4, 20, 3, 10, 5}, sum = 33  \r\n",
    "Output: Sum found between indexes 2 and 4. "
   ]
  },
  {
   "cell_type": "code",
   "execution_count": 35,
   "id": "9757849b-aac6-41f0-a564-09a15d2b3c45",
   "metadata": {},
   "outputs": [
    {
     "name": "stdout",
     "output_type": "stream",
     "text": [
      "[2, 4]\n"
     ]
    }
   ],
   "source": [
    "def subarraySum(arr, x):\n",
    "    ans = []\n",
    "    for i in range(len(arr)):\n",
    "        currentSum = arr[i]\n",
    "        if currentSum == x:\n",
    "            ans.append(i)\n",
    "            break;\n",
    "        else:\n",
    "            for j in range(i+1, len(arr)):\n",
    "                currentSum += arr[j]\n",
    "                if (currentSum == x):\n",
    "                    ans.append(i)\n",
    "                    ans.append(j)\n",
    "                    break;\n",
    "\n",
    "    return ans\n",
    "\n",
    "arr = [1, 4, 20, 3, 10, 5]\n",
    "x = 33\n",
    "print(subarraySum(arr,x))\n",
    "\n",
    "#time-complexity - O(n^2)\n",
    "#space-complexity - O(1)"
   ]
  },
  {
   "cell_type": "code",
   "execution_count": 37,
   "id": "2e6a3dc4-6ee1-497a-8977-04dc5e70e2a9",
   "metadata": {},
   "outputs": [
    {
     "name": "stdout",
     "output_type": "stream",
     "text": [
      "[0, 2]\n"
     ]
    }
   ],
   "source": [
    "def subarraySum(arr, x):\n",
    "    curr_sum = 0\n",
    "    index_map = {}\n",
    "    for i, num in enumerate(arr):\n",
    "        curr_sum += num\n",
    "        if curr_sum == x:\n",
    "            return [0,i]\n",
    "        if curr_sum-x in index_map:\n",
    "            return [index_map[curr_sum-x]+1, i]\n",
    "        index_map[curr_sum] = i\n",
    "    return []\n",
    "\n",
    "arr = [15, 2, 4, 8, 5, 10, 23]\n",
    "target_sum = 21\n",
    "print(subarraySum(arr, target_sum))\n",
    "\n",
    "# Time Complexity: O(N)\n",
    "# Auxiliary Space: O(N)"
   ]
  },
  {
   "cell_type": "code",
   "execution_count": null,
   "id": "a35dfca0-b17e-4077-904a-1a1fce376b6f",
   "metadata": {},
   "outputs": [],
   "source": []
  }
 ],
 "metadata": {
  "kernelspec": {
   "display_name": "Python 3 (ipykernel)",
   "language": "python",
   "name": "python3"
  },
  "language_info": {
   "codemirror_mode": {
    "name": "ipython",
    "version": 3
   },
   "file_extension": ".py",
   "mimetype": "text/x-python",
   "name": "python",
   "nbconvert_exporter": "python",
   "pygments_lexer": "ipython3",
   "version": "3.9.1"
  }
 },
 "nbformat": 4,
 "nbformat_minor": 5
}
