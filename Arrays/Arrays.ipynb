{
 "cells": [
  {
   "cell_type": "markdown",
   "id": "84cd45a5-28de-4310-9403-cc964cd29c66",
   "metadata": {},
   "source": [
    "Given an array of integers arr[] of size N and an integer, the task is to rotate the array elements to the left by d positions.  \n",
    "arr[] = {1, 2, 3, 4, 5, 6, 7}, d = 2  \r\n",
    "Output: 3 4 5 6 7 1 2"
   ]
  },
  {
   "cell_type": "code",
   "execution_count": 12,
   "id": "bdd78060-4e96-4113-bcbb-84972c6deb6e",
   "metadata": {},
   "outputs": [
    {
     "name": "stdout",
     "output_type": "stream",
     "text": [
      "[3, 4, 5, 6, 7, 1, 2]\n"
     ]
    }
   ],
   "source": [
    "def rotateArray(arr, d):\n",
    "    ans = []\n",
    "    for i in range(d, len(arr)):\n",
    "        ans.append(arr[i])\n",
    "    for i in range(d):\n",
    "        ans.append(arr[i])\n",
    "    return ans\n",
    "\n",
    "arr = [1,2,3,4,5,6,7]\n",
    "d = 2\n",
    "print(rotateArray(arr, d))\n",
    "\n",
    "#time-complexity - O(n)\n",
    "#space-complexity - O(1) , since the extra space is only used for the array to be returned hence space complxity is constant"
   ]
  },
  {
   "cell_type": "markdown",
   "id": "295820fc-b35a-43df-a615-b724055bea7c",
   "metadata": {},
   "source": [
    "Given an array of n elements that contains elements from 0 to n-1, with any of these numbers appearing any number of times. Find these repeating numbers in O(n) and use only constant memory space.\r\n",
    "\r\n",
    "Note: The repeating element should be printed only onc  \n",
    "Input: n=7 , array[]={1, 2, 3, 6, 3, 6, 1}  \r\n",
    "Output: 1, 3, 6e."
   ]
  },
  {
   "cell_type": "code",
   "execution_count": 10,
   "id": "451db2fa-9f68-4cc8-99a5-b80470bd47d0",
   "metadata": {},
   "outputs": [
    {
     "name": "stdout",
     "output_type": "stream",
     "text": [
      "[1, 3, 6]\n"
     ]
    }
   ],
   "source": [
    "def repeatingNumbers(arr):\n",
    "    arr.sort()\n",
    "    ans = []\n",
    "    for i in range(len(arr)-1):\n",
    "        if arr[i] == arr[i+1]:\n",
    "            ans.append(arr[i])\n",
    "    return ans\n",
    "\n",
    "arr = [1, 2, 3, 6, 3, 6, 1]\n",
    "print(repeatingNumbers(arr))\n",
    "\n",
    "#time-complexity - O(nlogn)\n",
    "#space-complexity - O(1)"
   ]
  },
  {
   "cell_type": "code",
   "execution_count": 13,
   "id": "00c26058-2fdf-4be6-8a8d-cd4967bdd2ae",
   "metadata": {},
   "outputs": [
    {
     "name": "stdout",
     "output_type": "stream",
     "text": [
      "[1, 3, 6]\n"
     ]
    }
   ],
   "source": [
    "def repeatingNumbers(arr):\n",
    "    freq_count = {}  # we are using dictionary to store the frequency of elements\n",
    "    ans = []\n",
    "    for num in arr:\n",
    "        freq_count[num] = freq_count.get(num, 0)+1\n",
    "    for key, value in freq_count.items():\n",
    "        if value > 1:\n",
    "            ans.append(key)\n",
    "    return ans\n",
    "\n",
    "arr = [1, 2, 3, 6, 3, 6, 1]\n",
    "print(repeatingNumbers(arr))\n",
    "\n",
    "#time-complexity - O(n)\n",
    "#space-complexity - O(1)"
   ]
  },
  {
   "cell_type": "markdown",
   "id": "96def90f-6175-4da4-a2a0-26c8eeda9555",
   "metadata": {},
   "source": [
    "Given an array arr[] of size N-1 with integers in the range of [1, N], the task is to find the missing number from the first N integers.\r\n",
    "\r\n",
    "Note: There are no duplicates in the lis  \n",
    "Input: arr[] = {1, 2, 4, 6, 3, 7, 8}  \r\n",
    "Output: 5t."
   ]
  },
  {
   "cell_type": "code",
   "execution_count": 17,
   "id": "582546a5-6193-4630-a1c8-07004888bb43",
   "metadata": {},
   "outputs": [
    {
     "name": "stdout",
     "output_type": "stream",
     "text": [
      "4\n"
     ]
    }
   ],
   "source": [
    "def findMissingNumber(arr):\n",
    "    arr.sort()\n",
    "    for i in range(len(arr)):\n",
    "        if i+1 != arr[i]:\n",
    "            return i+1\n",
    "            break;\n",
    "\n",
    "arr = [1, 2, 3, 5]\n",
    "print(findMissingNumber(arr))\n",
    "\n",
    "#time-complexity - O(nlogn)\n",
    "#space-complexity - O(1)"
   ]
  },
  {
   "cell_type": "code",
   "execution_count": 21,
   "id": "521aa23a-3e61-41dc-af31-523d7ab6aae1",
   "metadata": {},
   "outputs": [
    {
     "name": "stdout",
     "output_type": "stream",
     "text": [
      "5\n"
     ]
    }
   ],
   "source": [
    "def findMissingNUmber(arr):\n",
    "    totalSum = sum(arr)\n",
    "    sumN = (n+1)*(n+2)/2\n",
    "    return sumN-totalSum\n",
    "\n",
    "arr = [1, 2, 4, 6, 3, 7, 8]\n",
    "print(findMissingNumber(arr))\n",
    "\n",
    "#time-complexity - O(n)\n",
    "#space-complexity - O(1)"
   ]
  },
  {
   "cell_type": "markdown",
   "id": "2d3273ef-d39e-46ef-b780-712deb7065ea",
   "metadata": {},
   "source": [
    "Given two sorted arrays, the task is to merge them in a sorted manner.  \n",
    "Input: arr1[] = { 1, 3, 4, 5}, arr2[] = {2, 4, 6, 8}  \r\n",
    "Output: arr3[] = {1, 2, 3, 4, 4, 5, 6, 8}"
   ]
  },
  {
   "cell_type": "code",
   "execution_count": 24,
   "id": "1262c7dc-271f-411a-b258-2df4b410f62d",
   "metadata": {},
   "outputs": [
    {
     "name": "stdout",
     "output_type": "stream",
     "text": [
      "[1, 2, 3, 4, 4, 5, 6, 8]\n"
     ]
    }
   ],
   "source": [
    "def mergeArrays(arr1, arr2):\n",
    "    ans = arr1+arr2\n",
    "    ans.sort()\n",
    "    return ans\n",
    "\n",
    "arr1 = [1, 3, 4, 5]\n",
    "arr2 = [2, 4, 6, 8]\n",
    "print(mergeArrays(arr1, arr2))\n",
    "\n",
    "#time-complexity - O((n+m)log(n+m))\n",
    "#space-complexity - O(n+m)"
   ]
  },
  {
   "cell_type": "code",
   "execution_count": 32,
   "id": "0d3d579f-d9ae-4f6a-893c-be71cf1b94eb",
   "metadata": {},
   "outputs": [
    {
     "name": "stdout",
     "output_type": "stream",
     "text": [
      "[1, 2, 3, 4, 4, 5, 6, 8]\n"
     ]
    }
   ],
   "source": [
    "def mergeArrays(arr1, arr2):\n",
    "    i=0\n",
    "    j=0\n",
    "    ans = []\n",
    "    while i<len(arr1) and j<len(arr2):\n",
    "        if arr1[i] <= arr2[j]:\n",
    "            ans.append(arr1[i])\n",
    "            i = i+1\n",
    "        else:\n",
    "            ans.append(arr2[j])\n",
    "            j = j+1\n",
    "    while i<len(arr1):\n",
    "        ans.append(arr1[i])\n",
    "        i += 1\n",
    "    while j<len(arr2):\n",
    "        ans.append(arr2[j])\n",
    "        j += 1\n",
    "    return ans\n",
    "\n",
    "\n",
    "\n",
    "arr1 = [1, 3, 4, 5]\n",
    "arr2 = [2, 4, 6, 8]\n",
    "print(mergeArrays(arr1, arr2))\n",
    "\n",
    "#time-complexity - O(n+m)\n",
    "#space-complexity - O(n+m)"
   ]
  },
  {
   "cell_type": "markdown",
   "id": "718c3318-b744-4d5d-a8f8-bf1fdd799fa2",
   "metadata": {},
   "source": [
    "Given an array arr[] of non-negative integers and an integer sum, find a subarray that adds to a given sum.\r\n",
    "\r\n",
    "Note: There may be more than one subarray with sum as the given sum, print first such subarra  \n",
    "Input: arr[] = {1, 4, 20, 3, 10, 5}, sum = 33  \r\n",
    "Output: Sum found between indexes 2 and 4. "
   ]
  },
  {
   "cell_type": "code",
   "execution_count": 35,
   "id": "9757849b-aac6-41f0-a564-09a15d2b3c45",
   "metadata": {},
   "outputs": [
    {
     "name": "stdout",
     "output_type": "stream",
     "text": [
      "[2, 4]\n"
     ]
    }
   ],
   "source": [
    "def subarraySum(arr, x):\n",
    "    ans = []\n",
    "    for i in range(len(arr)):\n",
    "        currentSum = arr[i]\n",
    "        if currentSum == x:\n",
    "            ans.append(i)\n",
    "            break;\n",
    "        else:\n",
    "            for j in range(i+1, len(arr)):\n",
    "                currentSum += arr[j]\n",
    "                if (currentSum == x):\n",
    "                    ans.append(i)\n",
    "                    ans.append(j)\n",
    "                    break;\n",
    "\n",
    "    return ans\n",
    "\n",
    "arr = [1, 4, 20, 3, 10, 5]\n",
    "x = 33\n",
    "print(subarraySum(arr,x))\n",
    "\n",
    "#time-complexity - O(n^2)\n",
    "#space-complexity - O(1)"
   ]
  },
  {
   "cell_type": "code",
   "execution_count": 37,
   "id": "2e6a3dc4-6ee1-497a-8977-04dc5e70e2a9",
   "metadata": {},
   "outputs": [
    {
     "name": "stdout",
     "output_type": "stream",
     "text": [
      "[0, 2]\n"
     ]
    }
   ],
   "source": [
    "def subarraySum(arr, x):\n",
    "    curr_sum = 0\n",
    "    index_map = {}\n",
    "    for i, num in enumerate(arr):\n",
    "        curr_sum += num\n",
    "        if curr_sum == x:\n",
    "            return [0,i]\n",
    "        if curr_sum-x in index_map:\n",
    "            return [index_map[curr_sum-x]+1, i]\n",
    "        index_map[curr_sum] = i\n",
    "    return []\n",
    "\n",
    "arr = [15, 2, 4, 8, 5, 10, 23]\n",
    "target_sum = 21\n",
    "print(subarraySum(arr, target_sum))\n",
    "\n",
    "# Time Complexity: O(N)\n",
    "# Auxiliary Space: O(N)"
   ]
  },
  {
   "cell_type": "markdown",
   "id": "aced27af-b7ad-444f-8bf9-2c949badf7aa",
   "metadata": {},
   "source": [
    "# Sorting algorithms\n"
   ]
  },
  {
   "cell_type": "code",
   "execution_count": 6,
   "id": "7aa05981-7887-469d-8343-87a1eecbc19b",
   "metadata": {},
   "outputs": [
    {
     "name": "stdin",
     "output_type": "stream",
     "text": [
      "enter elements\n",
      " 5 1 4 7 2 8\n"
     ]
    },
    {
     "name": "stdout",
     "output_type": "stream",
     "text": [
      "[1, 2, 4, 5, 7, 8]\n"
     ]
    }
   ],
   "source": [
    "# Selection Sort\n",
    "\n",
    "def selectionSort(arr):\n",
    "    for i in range(len(arr)-1):\n",
    "        mini = i\n",
    "        for j in range(i+1, len(arr)):\n",
    "            if arr[j] < arr[mini]:\n",
    "                mini = j\n",
    "        arr[i], arr[mini] = arr[mini], arr[i]\n",
    "    return arr\n",
    "\n",
    "# arr = [5,6,2,1,0]\n",
    "# n = int(input(\"enter length:\\n\"))\n",
    "# arr = []\n",
    "# for i in range(n):\n",
    "#     x = int(input('enter element:\\n'))\n",
    "#     arr.append(x)\n",
    "arr = list(map(int, input(\"enter elements\\n\").split()))\n",
    "print(selectionSort(arr))\n",
    "\n",
    "# Time complexity - O(n^2)\n",
    "# Space complexity - O(1)"
   ]
  },
  {
   "cell_type": "code",
   "execution_count": 9,
   "id": "71db996f-fcbd-4c11-b61f-ef432b0aa0de",
   "metadata": {},
   "outputs": [
    {
     "name": "stdin",
     "output_type": "stream",
     "text": [
      "Enter number:\n",
      " 5 1 4 3 8\n"
     ]
    },
    {
     "name": "stdout",
     "output_type": "stream",
     "text": [
      "[1, 3, 4, 5, 8]\n"
     ]
    }
   ],
   "source": [
    "# Bubble Sort\n",
    "\n",
    "def bubbleSort(arr):\n",
    "    for i in range(len(arr)-1):\n",
    "        for j in range(len(arr)-i-1):\n",
    "            if arr[j] > arr[j+1]:\n",
    "                arr[j], arr[j+1] = arr[j+1], arr[j]\n",
    "    return arr\n",
    "\n",
    "arr = list(map(int, input(\"Enter number:\\n\").split()))\n",
    "print(bubbleSort(arr))\n",
    "\n",
    "# Time complexity - O(n^2)\n",
    "# Space complexity - O(1)"
   ]
  },
  {
   "cell_type": "code",
   "execution_count": 14,
   "id": "05921893-8786-4cf0-ac20-e25b94b19de7",
   "metadata": {},
   "outputs": [
    {
     "name": "stdin",
     "output_type": "stream",
     "text": [
      "Enter numbers:\n",
      " 5 2 4 8 9\n"
     ]
    },
    {
     "name": "stdout",
     "output_type": "stream",
     "text": [
      "[2, 4, 5, 8, 9]\n"
     ]
    }
   ],
   "source": [
    "# Insertion Sort\n",
    "\n",
    "def insertionSort(arr):\n",
    "    for i in range(1, len(arr)):\n",
    "        curr = arr[i]\n",
    "        j = i-1\n",
    "        while j >= 0 and curr < arr[j]:\n",
    "            arr[j+1] = arr[j]\n",
    "            j -= 1\n",
    "        arr[j+1] = curr\n",
    "    return arr\n",
    "\n",
    "arr = list(map(int, input(\"Enter numbers:\\n\").split()))\n",
    "print(insertionSort(arr))\n",
    "\n",
    "# Time complexity - O(n^2)\n",
    "# Space complexity - O(1)"
   ]
  },
  {
   "cell_type": "code",
   "execution_count": 22,
   "id": "e4181554-243a-4f01-8416-2947566a8703",
   "metadata": {},
   "outputs": [
    {
     "name": "stdin",
     "output_type": "stream",
     "text": [
      "Enter numbers:\n",
      " 5 8 7 6 10 0\n"
     ]
    },
    {
     "name": "stdout",
     "output_type": "stream",
     "text": [
      "[0, 5, 6, 7, 8, 10]\n"
     ]
    }
   ],
   "source": [
    "# Quick Sort\n",
    "\n",
    "def partition(array, low, high):\n",
    "    pivot = array[high]\n",
    "    i = low - 1\n",
    "    for j in range(low, high):\n",
    "        if array[j] <= pivot:\n",
    "            i = i + 1\n",
    "            (array[i], array[j]) = (array[j], array[i])\n",
    "    (array[i + 1], array[high]) = (array[high], array[i + 1])\n",
    "    return i + 1\n",
    "\n",
    "def quickSort(arr, low, high):\n",
    "    if low < high:\n",
    "        qI = partition(arr, low, high)\n",
    "        quickSort(arr, low, qI-1)\n",
    "        quickSort(arr, qI+1, high)\n",
    "    return arr\n",
    "\n",
    "arr = list(map(int, input(\"Enter numbers:\\n\").split()))\n",
    "print(quickSort(arr, 0, len(arr)-1))\n",
    "\n",
    "# Time complexity = O(nlogn)\n",
    "# Space complexity = O(1)"
   ]
  },
  {
   "cell_type": "code",
   "execution_count": 24,
   "id": "6625d388-4509-4e89-b4b9-a56b156a0477",
   "metadata": {},
   "outputs": [
    {
     "name": "stdin",
     "output_type": "stream",
     "text": [
      "Enter numbers:\n",
      " 5 4 1 3 8 10 9\n"
     ]
    },
    {
     "name": "stdout",
     "output_type": "stream",
     "text": [
      "[1, 3, 4, 5, 8, 9, 10]\n"
     ]
    }
   ],
   "source": [
    "# Merge Sort\n",
    "\n",
    "def merge(arr1, arr2):\n",
    "    i = 0\n",
    "    j = 0\n",
    "    arr = []\n",
    "    while i < len(arr1) and j < len(arr2):\n",
    "        if arr2[j] > arr1[i]:\n",
    "            arr.append(arr1[i])\n",
    "            i += 1\n",
    "        else:\n",
    "            arr.append(arr2[j])\n",
    "            j += 1\n",
    "    while i < len(arr1):\n",
    "        arr.append(arr1[i])\n",
    "        i += 1\n",
    "    while j < len(arr2):\n",
    "        arr.append(arr2[j])\n",
    "        j += 1\n",
    "    return arr\n",
    "\n",
    "def mergeSort(arr):\n",
    "    if len(arr) <= 1:\n",
    "        return arr\n",
    "    mid = len(arr)//2\n",
    "    arr1 = mergeSort(arr[:mid])\n",
    "    arr2 = mergeSort(arr[mid:])\n",
    "    return merge(arr1, arr2)\n",
    "\n",
    "arr = list(map(int, input(\"Enter numbers:\\n\").split()))\n",
    "print(mergeSort(arr))\n",
    "\n",
    "# Time complexity = O(nlogn)\n",
    "# Space complexity = O(1)"
   ]
  },
  {
   "cell_type": "markdown",
   "id": "75bd3e01-5e6c-4681-a982-19a7b6249f09",
   "metadata": {},
   "source": [
    "Given an integer array nums, return true if any value appears at least twice in the array, and return false if every element is distinct."
   ]
  },
  {
   "cell_type": "code",
   "execution_count": 27,
   "id": "25436e95-ce27-4c6f-8681-2592a8a36950",
   "metadata": {},
   "outputs": [
    {
     "name": "stdin",
     "output_type": "stream",
     "text": [
      " 1 2 3 5 2\n"
     ]
    },
    {
     "name": "stdout",
     "output_type": "stream",
     "text": [
      "True\n"
     ]
    }
   ],
   "source": [
    "def containDuplicate(arr):\n",
    "    seen = set()\n",
    "    for i in arr:\n",
    "        if i in seen:\n",
    "            return True\n",
    "        seen.add(i)\n",
    "    return False\n",
    "\n",
    "arr = list(map(int, input().split()))\n",
    "print(containDuplicate(arr))\n",
    "\n",
    "# Time complexity = O(n)"
   ]
  },
  {
   "cell_type": "markdown",
   "id": "cf3946b0-6d44-4359-a056-ca03e8d4fa36",
   "metadata": {},
   "source": [
    "Given two strings s and t, return true if t is an anagram of s, and false otherwise.\n",
    "\n",
    "An Anagram is a word or phrase formed by rearranging the letters of a different word or phrase, typically using all the original letters exactly once."
   ]
  },
  {
   "cell_type": "code",
   "execution_count": 44,
   "id": "31bec6ad-140b-4ba4-9569-9632630df67f",
   "metadata": {},
   "outputs": [
    {
     "name": "stdout",
     "output_type": "stream",
     "text": [
      "False\n"
     ]
    }
   ],
   "source": [
    "def isAnagram(s: str, t: str) -> bool:\n",
    "    if len(s) != len(t):\n",
    "        return False\n",
    "    news = sorted(s)\n",
    "    newt = sorted(t)\n",
    "    for i in range(len(s)):\n",
    "        if news[i] != newt[i]:\n",
    "            return False\n",
    "    return True\n",
    "\n",
    "s = \"rat\"\n",
    "t = \"car\"\n",
    "print(isAnagram(s, t))\n",
    "\n",
    "# Time complexity - O(nlogn)"
   ]
  },
  {
   "cell_type": "code",
   "execution_count": 39,
   "id": "bd920208-8c65-4981-8c7e-4001618cdb25",
   "metadata": {},
   "outputs": [
    {
     "name": "stdout",
     "output_type": "stream",
     "text": [
      "True\n"
     ]
    }
   ],
   "source": [
    "def isAnagram(s: str, t: str) -> bool:\n",
    "    if len(s) != len(t):\n",
    "        return False\n",
    "    char_ct = {}\n",
    "    for char in s:\n",
    "        char_ct[char] = char_ct.get(char, 0)+1\n",
    "    for char in t:\n",
    "        if char not in char_ct or char_ct[char] == 0:\n",
    "            return False\n",
    "        char_ct[char] -= 1\n",
    "    for count in char_ct.values():\n",
    "        if count != 0:\n",
    "            return False\n",
    "    return True\n",
    "\n",
    "s = \"anagram\"\n",
    "t = \"nagaram\"\n",
    "print(isAnagram(s, t))\n",
    "\n",
    "# Time complexity = O(n)"
   ]
  },
  {
   "cell_type": "markdown",
   "id": "d6227e03-91b5-4d3e-9089-454be1c61e8c",
   "metadata": {},
   "source": [
    "Given an array of integers nums and an integer target, return indices of the two numbers such that they add up to target.\r\n",
    "\r\n",
    "You may assume that each input would have exactly one solution, and you may not use the same element twice.\r\n",
    "\r\n",
    "You can return the answer in any order."
   ]
  },
  {
   "cell_type": "code",
   "execution_count": 59,
   "id": "9c22f7c9-6529-4c07-a538-3601b500d816",
   "metadata": {},
   "outputs": [
    {
     "name": "stdout",
     "output_type": "stream",
     "text": [
      "[1, 2]\n"
     ]
    }
   ],
   "source": [
    "def twoSum(arr, target):\n",
    "    ans = []\n",
    "    for i in range(len(arr)):\n",
    "        rem = target-arr[i]\n",
    "        for j in range(len(arr)):\n",
    "            if i == j:\n",
    "                continue\n",
    "            if arr[j] == rem:\n",
    "                ans.append(i)\n",
    "                ans.append(j)\n",
    "                break\n",
    "        if len(ans)>0:\n",
    "            break\n",
    "    return ans\n",
    "\n",
    "arr = [3,2,4]\n",
    "target = 6\n",
    "print(twoSum(arr, target))\n",
    "\n",
    "# Time complexity - O(n^2)\n",
    "# Sapce complexity - O(1)"
   ]
  },
  {
   "cell_type": "code",
   "execution_count": 68,
   "id": "238cb993-af58-4f79-940e-ec038aa767a1",
   "metadata": {},
   "outputs": [
    {
     "name": "stdout",
     "output_type": "stream",
     "text": [
      "[0, 1]\n"
     ]
    }
   ],
   "source": [
    "def twoSum(arr, target):\n",
    "    ans = []\n",
    "    seen = set(arr)\n",
    "    for i in range(len(arr)):\n",
    "        rem = target-arr[i]\n",
    "        if rem in seen and i != arr.index(rem):\n",
    "            ans.append(i)\n",
    "            ans.append(arr.index(rem))\n",
    "            break\n",
    "    return ans\n",
    "\n",
    "arr = [2,7,11,15]\n",
    "target = 9\n",
    "print(twoSum(arr, target))"
   ]
  },
  {
   "cell_type": "markdown",
   "id": "0153b60a-e603-478b-b810-73175b109831",
   "metadata": {},
   "source": [
    "Given an array of strings strs, group the anagrams together. You can return the answer in any order.\n",
    "\n",
    "An Anagram is a word or phrase formed by rearranging the letters of a different word or phrase, typically using all the original letters exactly once."
   ]
  },
  {
   "cell_type": "code",
   "execution_count": 74,
   "id": "418ef020-fa7d-47cb-9b9b-b01a6d59ef06",
   "metadata": {},
   "outputs": [
    {
     "name": "stdout",
     "output_type": "stream",
     "text": [
      "[['eat', 'tea', 'ate'], ['tan', 'nat'], ['bat']]\n"
     ]
    }
   ],
   "source": [
    "def isAnagram(s: str, t: str) -> bool:\n",
    "    if len(s) != len(t):\n",
    "        return False\n",
    "    char_ct = {}\n",
    "    for char in s:\n",
    "        char_ct[char] = char_ct.get(char, 0)+1\n",
    "    for char in t:\n",
    "        if char not in char_ct or char_ct[char] == 0:\n",
    "            return False\n",
    "        char_ct[char] -= 1\n",
    "    for count in char_ct.values():\n",
    "        if count != 0:\n",
    "            return False\n",
    "    return True\n",
    "\n",
    "def groupAnagram(strs):\n",
    "    arr = []\n",
    "    for i in strs:\n",
    "        arr.append(i)\n",
    "    for i in range(len(arr)):\n",
    "        word = []\n",
    "        word.append(arr[i])\n",
    "        for j in range(len(arr)):\n",
    "            if isAnagram(arr[i], arr[j]) == True:\n",
    "                word.append(arr[j])\n",
    "        arr.append(word)\n",
    "    return arr\n",
    "\n",
    "strs = [\"eat\", \"tea\", \"tan\", \"ate\", \"nat\", \"bat\"]\n",
    "print(groupAnagrams(strs))\n",
    "\n",
    "# Time-complexity - O(n^3) n^2 for groupAnagram and n for isAnagram\n",
    "# Space-complexity - O(2^n)"
   ]
  },
  {
   "cell_type": "code",
   "execution_count": 71,
   "id": "815b848b-43d5-4200-a9bf-92ae225430ad",
   "metadata": {},
   "outputs": [
    {
     "name": "stdout",
     "output_type": "stream",
     "text": [
      "[['eat', 'tea', 'ate'], ['tan', 'nat'], ['bat']]\n"
     ]
    }
   ],
   "source": [
    "def groupAnagrams(strs):\n",
    "    anagram_dict = {}\n",
    "    for s in strs:\n",
    "        sorted_s = ''.join(sorted(s))\n",
    "        if sorted_s in anagram_dict:\n",
    "            anagram_dict[sorted_s].append(s)\n",
    "        else:\n",
    "            anagram_dict[sorted_s] = [s]\n",
    "    return list(anagram_dict.values())\n",
    "\n",
    "strs = [\"eat\", \"tea\", \"tan\", \"ate\", \"nat\", \"bat\"]\n",
    "print(groupAnagrams(strs))\n",
    "\n",
    "# Time complexity - O(nlogn)\n",
    "# Space complexity - O(n*m) (n is for dict and m for each sorted word)"
   ]
  },
  {
   "cell_type": "markdown",
   "id": "f2e6ee26-c5ee-4434-86d0-44ecf21e44a1",
   "metadata": {},
   "source": [
    "Given an integer array nums and an integer k, return the k most frequent elements. You may return the answer in any order."
   ]
  },
  {
   "cell_type": "code",
   "execution_count": 90,
   "id": "4cf7bf17-90f4-4abe-8dcf-0957b262f351",
   "metadata": {},
   "outputs": [
    {
     "name": "stdout",
     "output_type": "stream",
     "text": [
      "[1, 2]\n"
     ]
    }
   ],
   "source": [
    "# This returns only the elements with frequency greater than equal to k\n",
    "\n",
    "def topKElements(arr,k):\n",
    "    count_elements = {}\n",
    "    ans = []\n",
    "    for i in arr:\n",
    "        count_elements[i] = count_elements.get(i, 0)+1\n",
    "    for element, count in count_elements.items():\n",
    "        if count >= k:\n",
    "            ans.append(element)\n",
    "    return ans\n",
    "\n",
    "arr = [1,1,1,2,2,3]\n",
    "k = 2\n",
    "print(topKElements(arr, k))"
   ]
  },
  {
   "cell_type": "code",
   "execution_count": 91,
   "id": "0c83b274-c9a3-4afc-9b5d-a245f61db6f0",
   "metadata": {},
   "outputs": [
    {
     "name": "stdout",
     "output_type": "stream",
     "text": [
      "[1, 2]\n"
     ]
    }
   ],
   "source": [
    "# This function returns the elements with the highest frequency\n",
    "\n",
    "def topKFrequent(nums, int):\n",
    "    count_elements = {}\n",
    "    ans = []\n",
    "    for i in nums:\n",
    "        count_elements[i] = count_elements.get(i, 0) + 1\n",
    "    # Sort elements based on their frequency in descending order\n",
    "    sorted_elements = sorted(count_elements.keys(), key=lambda x: count_elements[x])\n",
    "    # Return the top k frequent elements\n",
    "    return sorted_elements[:k]\n",
    "\n",
    "arr = [1,1,1,2,2,3]\n",
    "k = 2\n",
    "print(topKElements(arr, k))"
   ]
  },
  {
   "cell_type": "markdown",
   "id": "b51aaa1c-a2c5-49d7-bf3a-394b2ad7e9cf",
   "metadata": {},
   "source": [
    "Given an integer array nums, return an array answer such that answer[i] is equal to the product of all the elements of nums except nums[i]."
   ]
  },
  {
   "cell_type": "code",
   "execution_count": 94,
   "id": "aba457f6-f033-4b19-a078-0a80aaf9cfaf",
   "metadata": {},
   "outputs": [
    {
     "name": "stdout",
     "output_type": "stream",
     "text": [
      "[0, 0, 9, 0, 0]\n"
     ]
    }
   ],
   "source": [
    "def productSelf(arr):\n",
    "    ans = []\n",
    "    for i in range(len(arr)):\n",
    "        k = 1\n",
    "        for j in range(len(arr)):\n",
    "            if i == j:\n",
    "                continue\n",
    "            k=k*arr[j]\n",
    "        ans.append(k)\n",
    "    return ans\n",
    "\n",
    "arr = [-1,1,0,-3,3]\n",
    "print(productSelf(arr))\n",
    "\n",
    "# Time-complexoty - O(n^2)"
   ]
  },
  {
   "cell_type": "code",
   "execution_count": 3,
   "id": "dd135e7c-ae6b-4103-ba67-57d086f6a2af",
   "metadata": {},
   "outputs": [
    {
     "name": "stdout",
     "output_type": "stream",
     "text": [
      "[0, 0, 9, 0, 0]\n"
     ]
    }
   ],
   "source": [
    "def productSelf(arr):\n",
    "    n = len(arr)\n",
    "    pre = [1]*n\n",
    "    suff = [1]*n\n",
    "    for i in range(1, n):\n",
    "        pre[i] = pre[i-1]*arr[i-1]\n",
    "    for i in range(n-2, -1, -1):\n",
    "        suff[i] = suff[i+1]*arr[i+1]\n",
    "    ans = [pre[i]*suff[i] for i in range(n)]\n",
    "    return ans\n",
    "\n",
    "arr = [-1,1,0,-3,3]\n",
    "print(productSelf(arr))\n",
    "\n",
    "# Time complexity - O(n)\n",
    "# Space complexity - O(n)"
   ]
  },
  {
   "cell_type": "markdown",
   "id": "aa82be1c-f813-4304-ae0b-efa9cda06c12",
   "metadata": {},
   "source": [
    "Given an unsorted array of integers nums, return the length of the longest consecutive elements sequence."
   ]
  },
  {
   "cell_type": "code",
   "execution_count": 10,
   "id": "95d86f59-f222-4341-b514-1e4c74f9e04f",
   "metadata": {},
   "outputs": [
    {
     "name": "stdout",
     "output_type": "stream",
     "text": [
      "4\n"
     ]
    }
   ],
   "source": [
    "def longestConsecutive(arr):\n",
    "    arr.sort()\n",
    "    maxL = 0\n",
    "    l = 1\n",
    "    for i in range(len(arr)-1):\n",
    "        if arr[i]+1 == arr[i+1]:\n",
    "            l += 1\n",
    "        if l > maxL:\n",
    "            maxL = l\n",
    "        else:\n",
    "            l = 1\n",
    "    return maxL\n",
    "\n",
    "arr = [100,4,200,1,3,2]\n",
    "print(longestConsecutive(arr))\n",
    "\n",
    "# Time complexity - O(nlogn)\n",
    "# Space complexity - O(1)"
   ]
  },
  {
   "cell_type": "code",
   "execution_count": 22,
   "id": "f0f3e3cc-86ca-404c-aff0-3162966d9a2a",
   "metadata": {},
   "outputs": [
    {
     "name": "stdout",
     "output_type": "stream",
     "text": [
      "4\n"
     ]
    }
   ],
   "source": [
    "def longestConsecutive(nums):\n",
    "    # Convert the input list to a set for O(1) lookup\n",
    "    num_set = set(nums)\n",
    "    max_length = 0\n",
    "    # Iterate through each number in the set\n",
    "    for num in num_set:\n",
    "        # Check if the current number is the start of a sequence\n",
    "        if num - 1 not in num_set:\n",
    "            current_num = num\n",
    "            current_length = 1\n",
    "            # Check consecutive numbers in increasing order\n",
    "            while current_num + 1 in num_set:\n",
    "                current_num += 1\n",
    "                current_length += 1\n",
    "            # Update the maximum length if needed\n",
    "            max_length = max(max_length, current_length)\n",
    "    return max_length\n",
    "\n",
    "arr = [100,4,200,1,3,2]\n",
    "print(longestConsecutive(arr))"
   ]
  },
  {
   "cell_type": "code",
   "execution_count": null,
   "id": "7973e7bd-64ce-48cf-af65-714617afba61",
   "metadata": {},
   "outputs": [],
   "source": []
  }
 ],
 "metadata": {
  "kernelspec": {
   "display_name": "Python 3 (ipykernel)",
   "language": "python",
   "name": "python3"
  },
  "language_info": {
   "codemirror_mode": {
    "name": "ipython",
    "version": 3
   },
   "file_extension": ".py",
   "mimetype": "text/x-python",
   "name": "python",
   "nbconvert_exporter": "python",
   "pygments_lexer": "ipython3",
   "version": "3.9.1"
  }
 },
 "nbformat": 4,
 "nbformat_minor": 5
}
